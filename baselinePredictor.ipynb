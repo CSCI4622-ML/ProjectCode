{
 "cells": [
  {
   "cell_type": "code",
   "execution_count": 1,
   "metadata": {},
   "outputs": [],
   "source": [
    "import torch\n",
    "import torch.nn as nn\n",
    "import torch.nn.functional as F\n",
    "import torch.optim as optim\n",
    "from torch.utils.data import DataLoader, random_split, TensorDataset\n",
    "import numpy as np\n",
    "import pandas as pd\n",
    "import matplotlib.pyplot as plt\n"
   ]
  },
  {
   "cell_type": "code",
   "execution_count": 2,
   "metadata": {},
   "outputs": [
    {
     "data": {
      "text/html": [
       "<div>\n",
       "<style scoped>\n",
       "    .dataframe tbody tr th:only-of-type {\n",
       "        vertical-align: middle;\n",
       "    }\n",
       "\n",
       "    .dataframe tbody tr th {\n",
       "        vertical-align: top;\n",
       "    }\n",
       "\n",
       "    .dataframe thead th {\n",
       "        text-align: right;\n",
       "    }\n",
       "</style>\n",
       "<table border=\"1\" class=\"dataframe\">\n",
       "  <thead>\n",
       "    <tr style=\"text-align: right;\">\n",
       "      <th></th>\n",
       "      <th>date</th>\n",
       "      <th>1. open</th>\n",
       "      <th>2. high</th>\n",
       "      <th>3. low</th>\n",
       "      <th>4. close</th>\n",
       "      <th>5. adjusted close</th>\n",
       "      <th>6. volume</th>\n",
       "      <th>7. dividend amount</th>\n",
       "      <th>8. split coefficient</th>\n",
       "      <th>up</th>\n",
       "      <th>down</th>\n",
       "    </tr>\n",
       "  </thead>\n",
       "  <tbody>\n",
       "    <tr>\n",
       "      <th>0</th>\n",
       "      <td>2023-02-24</td>\n",
       "      <td>147.11</td>\n",
       "      <td>147.19</td>\n",
       "      <td>145.7202</td>\n",
       "      <td>146.71</td>\n",
       "      <td>146.71</td>\n",
       "      <td>55469606.0</td>\n",
       "      <td>0.0</td>\n",
       "      <td>1.0</td>\n",
       "      <td>0</td>\n",
       "      <td>0</td>\n",
       "    </tr>\n",
       "    <tr>\n",
       "      <th>1</th>\n",
       "      <td>2023-02-23</td>\n",
       "      <td>150.09</td>\n",
       "      <td>150.34</td>\n",
       "      <td>147.2400</td>\n",
       "      <td>149.40</td>\n",
       "      <td>149.40</td>\n",
       "      <td>48394249.0</td>\n",
       "      <td>0.0</td>\n",
       "      <td>1.0</td>\n",
       "      <td>1</td>\n",
       "      <td>0</td>\n",
       "    </tr>\n",
       "    <tr>\n",
       "      <th>2</th>\n",
       "      <td>2023-02-22</td>\n",
       "      <td>148.87</td>\n",
       "      <td>149.95</td>\n",
       "      <td>147.1600</td>\n",
       "      <td>148.91</td>\n",
       "      <td>148.91</td>\n",
       "      <td>51011305.0</td>\n",
       "      <td>0.0</td>\n",
       "      <td>1.0</td>\n",
       "      <td>0</td>\n",
       "      <td>1</td>\n",
       "    </tr>\n",
       "    <tr>\n",
       "      <th>3</th>\n",
       "      <td>2023-02-21</td>\n",
       "      <td>150.20</td>\n",
       "      <td>151.30</td>\n",
       "      <td>148.4050</td>\n",
       "      <td>148.48</td>\n",
       "      <td>148.48</td>\n",
       "      <td>58867230.0</td>\n",
       "      <td>0.0</td>\n",
       "      <td>1.0</td>\n",
       "      <td>0</td>\n",
       "      <td>1</td>\n",
       "    </tr>\n",
       "    <tr>\n",
       "      <th>4</th>\n",
       "      <td>2023-02-17</td>\n",
       "      <td>152.35</td>\n",
       "      <td>153.00</td>\n",
       "      <td>150.8500</td>\n",
       "      <td>152.55</td>\n",
       "      <td>152.55</td>\n",
       "      <td>59144118.0</td>\n",
       "      <td>0.0</td>\n",
       "      <td>1.0</td>\n",
       "      <td>1</td>\n",
       "      <td>0</td>\n",
       "    </tr>\n",
       "  </tbody>\n",
       "</table>\n",
       "</div>"
      ],
      "text/plain": [
       "         date  1. open  2. high    3. low  4. close  5. adjusted close  \\\n",
       "0  2023-02-24   147.11   147.19  145.7202    146.71             146.71   \n",
       "1  2023-02-23   150.09   150.34  147.2400    149.40             149.40   \n",
       "2  2023-02-22   148.87   149.95  147.1600    148.91             148.91   \n",
       "3  2023-02-21   150.20   151.30  148.4050    148.48             148.48   \n",
       "4  2023-02-17   152.35   153.00  150.8500    152.55             152.55   \n",
       "\n",
       "    6. volume  7. dividend amount  8. split coefficient  up  down  \n",
       "0  55469606.0                 0.0                   1.0   0     0  \n",
       "1  48394249.0                 0.0                   1.0   1     0  \n",
       "2  51011305.0                 0.0                   1.0   0     1  \n",
       "3  58867230.0                 0.0                   1.0   0     1  \n",
       "4  59144118.0                 0.0                   1.0   1     0  "
      ]
     },
     "execution_count": 2,
     "metadata": {},
     "output_type": "execute_result"
    }
   ],
   "source": [
    "def add_up_down_columns(df):\n",
    "    # Create empty 'up' and 'down' columns\n",
    "    df['up'] = 0\n",
    "    df['down'] = 0\n",
    "    \n",
    "    # Loop over the rows (skipping the first row)\n",
    "    for i in range(1, len(df)):\n",
    "        if df.loc[i, '4. close'] > df.loc[i-1, '4. close']:\n",
    "            df.loc[i, 'up'] = 1\n",
    "        else:\n",
    "            df.loc[i, 'down'] = 1\n",
    "    \n",
    "    return df\n",
    "\n",
    "df = pd.read_csv('market_data/TimeSeries/AAPL.csv')\n",
    "\n",
    "df = add_up_down_columns(df)\n",
    "\n",
    "df.head()"
   ]
  },
  {
   "cell_type": "code",
   "execution_count": 3,
   "metadata": {},
   "outputs": [
    {
     "name": "stdout",
     "output_type": "stream",
     "text": [
      "torch.Size([100, 4])\n",
      "torch.Size([100, 2])\n"
     ]
    }
   ],
   "source": [
    "def df_to_tensor(df):\n",
    "    #right now this is just getting columns 1-4 (open, low, high, close)\n",
    "    inputs = torch.from_numpy(df.iloc[:, 1:5].values.astype('float32'))\n",
    "    outputs = torch.from_numpy(df.iloc[:, 9:11].values.astype('float32'))\n",
    "    return inputs, outputs\n",
    "\n",
    "inputs, outputs = df_to_tensor(df)\n",
    "print(inputs.shape)\n",
    "print(outputs.shape)"
   ]
  },
  {
   "cell_type": "code",
   "execution_count": 4,
   "metadata": {},
   "outputs": [],
   "source": [
    "dataset = TensorDataset(inputs, outputs)\n",
    "\n",
    "val_percent = 0.2\n",
    "num_rows = len(df.index)\n",
    "val_size = int(num_rows * val_percent)\n",
    "train_size = num_rows - val_size\n",
    "train_ds, val_ds = random_split(dataset, [train_size, val_size])"
   ]
  },
  {
   "cell_type": "code",
   "execution_count": 5,
   "metadata": {},
   "outputs": [],
   "source": [
    "batch_size = 32\n",
    "train_loader = DataLoader(train_ds, batch_size, shuffle = True, num_workers = 0)\n",
    "val_loader = DataLoader(val_ds, batch_size, num_workers = 0)"
   ]
  },
  {
   "cell_type": "code",
   "execution_count": 6,
   "metadata": {},
   "outputs": [],
   "source": [
    "class baselinePredictor(nn.Module):\n",
    "    def __init__(self, input_size, output_size):\n",
    "        super().__init__()\n",
    "        self.fc1 = nn.Linear(input_size, 100)\n",
    "        self.relu = nn.ReLU()\n",
    "        self.fc2 = nn.Linear(100, output_size)\n",
    "\n",
    "    def forward(self, x):\n",
    "        x = self.fc1(x)\n",
    "        x = self.relu(x)\n",
    "        x = self.fc2(x)\n",
    "        return x\n",
    "\n",
    "input_size = 4\n",
    "output_size = 2\n",
    "model = baselinePredictor(input_size, output_size)"
   ]
  },
  {
   "cell_type": "code",
   "execution_count": 7,
   "metadata": {},
   "outputs": [],
   "source": [
    "criterion = nn.MSELoss()\n",
    "optimizer = optim.SGD(model.parameters(), lr = 0.001)\n",
    "num_epochs = 100"
   ]
  },
  {
   "cell_type": "code",
   "execution_count": 12,
   "metadata": {},
   "outputs": [
    {
     "name": "stdout",
     "output_type": "stream",
     "text": [
      "Epoch 1/100, Loss: 16.5756\n",
      "Epoch 21/100, Loss: 14.4219\n",
      "Epoch 41/100, Loss: 12.9536\n",
      "Epoch 61/100, Loss: 11.7796\n",
      "Epoch 81/100, Loss: 10.4862\n",
      "Epoch 100/100, Loss: 9.1503\n"
     ]
    }
   ],
   "source": [
    "for epoch in range(num_epochs):\n",
    "    for data in train_loader:\n",
    "        inputs, labels = data\n",
    "        optimizer.zero_grad()\n",
    "        outputs = model(inputs)\n",
    "        loss = criterion(outputs, labels)\n",
    "        loss.backward()\n",
    "        optimizer.step()\n",
    "    if(epoch % 20 == 0 or epoch == num_epochs - 1):\n",
    "        print(f'Epoch {epoch+1}/{num_epochs}, Loss: {loss.item():.4f}')\n",
    "\n"
   ]
  },
  {
   "cell_type": "code",
   "execution_count": 9,
   "metadata": {},
   "outputs": [],
   "source": [
    "#not very confident this is doing what I want it to do\n",
    "\n",
    "\n",
    "# def get_num_correct(preds, labels):\n",
    "#     return preds.argmax(dim=1).eq(labels.argmax(dim=1)).sum().item()\n",
    "\n",
    "# total_loss = 0\n",
    "# total_correct = 0\n",
    "\n",
    "# for data in val_loader:\n",
    "#     inputs, labels = data\n",
    "#     outputs = model(inputs)\n",
    "#     loss = criterion(outputs, labels)\n",
    "#     total_loss += loss.item()\n",
    "#     total_correct += get_num_correct(outputs, labels)\n",
    "\n",
    "# print(f'Loss: {total_loss/len(val_loader):.4f}, Accuracy: {total_correct/len(val_ds):.4f}')"
   ]
  },
  {
   "cell_type": "code",
   "execution_count": 11,
   "metadata": {},
   "outputs": [
    {
     "data": {
      "text/plain": [
       "tensor([[-2.0291, -4.6357]])"
      ]
     },
     "execution_count": 11,
     "metadata": {},
     "output_type": "execute_result"
    }
   ],
   "source": [
    "def single_prediction(model, inputs):\n",
    "    with torch.no_grad():\n",
    "        outputs = model(inputs)\n",
    "        return outputs\n",
    "        #return torch.clamp(outputs, 0, 1)\n",
    "\n",
    "test_input = torch.tensor([[93.53, 94.14, 92.31, 93.5]])\n",
    "single_prediction(model, test_input)\n"
   ]
  },
  {
   "cell_type": "code",
   "execution_count": null,
   "metadata": {},
   "outputs": [],
   "source": []
  }
 ],
 "metadata": {
  "kernelspec": {
   "display_name": "Python 3",
   "language": "python",
   "name": "python3"
  },
  "language_info": {
   "codemirror_mode": {
    "name": "ipython",
    "version": 3
   },
   "file_extension": ".py",
   "mimetype": "text/x-python",
   "name": "python",
   "nbconvert_exporter": "python",
   "pygments_lexer": "ipython3",
   "version": "3.10.10"
  },
  "orig_nbformat": 4,
  "vscode": {
   "interpreter": {
    "hash": "a9f1f59101e07bffb7c2ecfaca1a3c7ffe3cd326ee75e914ab1b038684b38c5a"
   }
  }
 },
 "nbformat": 4,
 "nbformat_minor": 2
}
